{
  "cells": [
    {
      "cell_type": "markdown",
      "metadata": {
        "id": "view-in-github",
        "colab_type": "text"
      },
      "source": [
        "<a href=\"https://colab.research.google.com/github/Julius-tech/hello/blob/master/Welcome_To_Colaboratory.ipynb\" target=\"_parent\"><img src=\"https://colab.research.google.com/assets/colab-badge.svg\" alt=\"Open In Colab\"/></a>"
      ]
    },
    {
      "cell_type": "code",
      "source": [
        "# Define two vectors (list): input my_x weights my_w\n",
        "my_x = [0, 1, 1]\n",
        "my_w = [-10, 10, 5]"
      ],
      "metadata": {
        "id": "q5fj4pmzZ5c9"
      },
      "execution_count": 18,
      "outputs": []
    },
    {
      "cell_type": "code",
      "source": [
        "# Multiply two lists element wise\n",
        "def mul(a, b):\n",
        "  \"\"\"\n",
        "    return a list c, same length as a, element c[i] = a[i] * b[i]\n",
        "    \"len(list)\" and \"[0] * n\" may be useful\n",
        "  \"\"\"\n",
        "  n = len(a)\n",
        "  c = [0] * n\n",
        "  for i in range(n):\n",
        "    c[i] = a[i] * b[i]\n",
        "  return c"
      ],
      "metadata": {
        "id": "Rfz3V9ilaKww"
      },
      "execution_count": 19,
      "outputs": []
    },
    {
      "cell_type": "code",
      "source": [
        "# Test mul() function\n",
        "mul(my_x, my_w)"
      ],
      "metadata": {
        "colab": {
          "base_uri": "https://localhost:8080/"
        },
        "id": "8lYOrGHvaheq",
        "outputId": "6d7f633c-8c4d-4e80-983b-4d34bfb61305"
      },
      "execution_count": 20,
      "outputs": [
        {
          "output_type": "execute_result",
          "data": {
            "text/plain": [
              "[0, 10, 5]"
            ]
          },
          "metadata": {},
          "execution_count": 20
        }
      ]
    },
    {
      "cell_type": "code",
      "source": [
        "# Define a scalar: bias b\n",
        "my_b = -5"
      ],
      "metadata": {
        "id": "RfiNu0NNamzX"
      },
      "execution_count": 21,
      "outputs": []
    },
    {
      "cell_type": "code",
      "source": [
        "# Neuron linear (internal) potential\n",
        "def linear_neuron(x, weights, bias):\n",
        "  \"\"\"\n",
        "    return a scalar value representing a scalar neuron\n",
        "    \"sum(list)\" computes the sum of the elements in a list\n",
        "  \"\"\"\n",
        "  return sum(mul(x, weights)) + bias"
      ],
      "metadata": {
        "id": "bPZVJLhIcDVp"
      },
      "execution_count": 22,
      "outputs": []
    },
    {
      "cell_type": "code",
      "source": [
        "# Test linear_neuron() function\n",
        "linear_neuron(my_x, my_w, my_b)"
      ],
      "metadata": {
        "colab": {
          "base_uri": "https://localhost:8080/"
        },
        "id": "C0goQ9Pwcrmw",
        "outputId": "a27dc61d-d4d6-4c4f-aaa6-1f07443e49b7"
      },
      "execution_count": 23,
      "outputs": [
        {
          "output_type": "execute_result",
          "data": {
            "text/plain": [
              "10"
            ]
          },
          "metadata": {},
          "execution_count": 23
        }
      ]
    },
    {
      "cell_type": "code",
      "source": [
        "# Import exp() function (safe on lists)\n",
        "from numpy import exp"
      ],
      "metadata": {
        "id": "Bs-11Ik8c2vH"
      },
      "execution_count": 24,
      "outputs": []
    },
    {
      "cell_type": "code",
      "source": [
        "# Logistic sigmoid\n",
        "def sigmoid(z):\n",
        "    \"\"\"\n",
        "    return the logistic sigmoid (use exp())\n",
        "    \"\"\"\n",
        "    return 1 / (1 + exp(-z))"
      ],
      "metadata": {
        "id": "dk5ar6LSdDZp"
      },
      "execution_count": 25,
      "outputs": []
    },
    {
      "cell_type": "code",
      "source": [
        "# Try out σ() for different z values\n",
        "for z in (-5, 0, 5):\n",
        "  print(sigmoid(z))"
      ],
      "metadata": {
        "colab": {
          "base_uri": "https://localhost:8080/"
        },
        "id": "tdPLYhITd_Y5",
        "outputId": "aaa44be8-cae1-4dda-a947-194361fcd60d"
      },
      "execution_count": 26,
      "outputs": [
        {
          "output_type": "stream",
          "name": "stdout",
          "text": [
            "0.0066928509242848554\n",
            "0.5\n",
            "0.9933071490757153\n"
          ]
        }
      ]
    },
    {
      "cell_type": "code",
      "source": [
        "# Import some plotting stuff to graph sigmoid()\n",
        "from numpy import linspace\n",
        "from matplotlib.pyplot import plot, axhline, axvline, grid, style\n",
        "style.use('dark_background')"
      ],
      "metadata": {
        "id": "9s1sKO0XeLqE"
      },
      "execution_count": 27,
      "outputs": []
    },
    {
      "cell_type": "code",
      "source": [
        "from pyparsing import lineStart\n",
        "# Get a pair of axis and grid lines centred in (0, 0)\n",
        "axhline(c='.2'); axvline(color='.2')\n",
        "grid(c='.1', ls='--')\n",
        "\n",
        "# Plot across a span of numbers\n",
        "z = linspace(-7.5, 7.5)\n",
        "plot(z, sigmoid(z))"
      ],
      "metadata": {
        "colab": {
          "base_uri": "https://localhost:8080/",
          "height": 283
        },
        "id": "6k22zHgCei6s",
        "outputId": "c07f5462-a9c3-4370-ccde-2bd37a1e9fad"
      },
      "execution_count": 31,
      "outputs": [
        {
          "output_type": "execute_result",
          "data": {
            "text/plain": [
              "[<matplotlib.lines.Line2D at 0x7f40cf1a0070>]"
            ]
          },
          "metadata": {},
          "execution_count": 31
        },
        {
          "output_type": "display_data",
          "data": {
            "text/plain": [
              "<Figure size 432x288 with 1 Axes>"
            ],
            "image/png": "[encoded data removed]"
          },
          "metadata": {}
        }
      ]
    },
    {
      "cell_type": "code",
      "source": [
        "# Full neuron function\n",
        "def neuron(x, weights, bias):\n",
        "    \"\"\"\n",
        "    Return a classical neuron output (reuse code above)\n",
        "    \"\"\"\n",
        "    return sigmoid(linear_neuron(x, weights, bias))"
      ],
      "metadata": {
        "id": "LfB_6KMjfGLG"
      },
      "execution_count": 32,
      "outputs": []
    },
    {
      "cell_type": "code",
      "source": [
        "neuron(my_x, my_w, my_b)"
      ],
      "metadata": {
        "colab": {
          "base_uri": "https://localhost:8080/"
        },
        "id": "DkySVhhBgBEt",
        "outputId": "52b3e4ff-a99d-4624-eb68-1585a54e933b"
      },
      "execution_count": 33,
      "outputs": [
        {
          "output_type": "execute_result",
          "data": {
            "text/plain": [
              "0.9999546021312976"
            ]
          },
          "metadata": {},
          "execution_count": 33
        }
      ]
    },
    {
      "cell_type": "code",
      "source": [],
      "metadata": {
        "id": "fBsDgpFYgGaY"
      },
      "execution_count": null,
      "outputs": []
    }
  ],
  "metadata": {
    "colab": {
      "name": "Welcome To Colaboratory",
      "provenance": [],
      "include_colab_link": true
    },
    "kernelspec": {
      "display_name": "Python 3",
      "name": "python3"
    }
  },
  "nbformat": 4,
  "nbformat_minor": 0
}